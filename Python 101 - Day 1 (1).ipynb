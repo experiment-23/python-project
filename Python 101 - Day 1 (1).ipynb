{
 "cells": [
  {
   "cell_type": "markdown",
   "id": "d4956dfe",
   "metadata": {},
   "source": [
    "# Basic Data Types"
   ]
  },
  {
   "cell_type": "markdown",
   "id": "4c345481",
   "metadata": {},
   "source": [
    "## Integer\n",
    "\n",
    " Integers are whole numbers without any decimal points."
   ]
  },
  {
   "cell_type": "code",
   "execution_count": 1,
   "id": "49758743",
   "metadata": {},
   "outputs": [
    {
     "name": "stdout",
     "output_type": "stream",
     "text": [
      "num1 is 10 and num2 is -5\n"
     ]
    }
   ],
   "source": [
    "# Defining Integer Variables\n",
    "num1 = 10\n",
    "num2 = -5\n",
    "\n",
    "print(f\"num1 is {num1} and num2 is {num2}\")"
   ]
  },
  {
   "cell_type": "markdown",
   "id": "a031e9b1",
   "metadata": {},
   "source": [
    "## Float\n",
    "\n",
    "Floats represent real numbers with decimal points."
   ]
  },
  {
   "cell_type": "code",
   "execution_count": 2,
   "id": "5d97ef3a",
   "metadata": {},
   "outputs": [
    {
     "name": "stdout",
     "output_type": "stream",
     "text": [
      "float1 is 10.5 and float2 is -3.7567324\n"
     ]
    }
   ],
   "source": [
    "# Defining Float Variables\n",
    "float1 = 10.5\n",
    "float2 = -3.7567324\n",
    "\n",
    "print(f\"float1 is {float1} and float2 is {float2}\")"
   ]
  },
  {
   "cell_type": "code",
   "execution_count": 11,
   "id": "ae2e6394",
   "metadata": {},
   "outputs": [
    {
     "name": "stdout",
     "output_type": "stream",
     "text": [
      "-3.76\n"
     ]
    }
   ],
   "source": [
    "print(round(float2,2))\n"
   ]
  },
  {
   "cell_type": "markdown",
   "id": "9c29811b",
   "metadata": {},
   "source": [
    "## String \n",
    "\n",
    "Strings are sequences of characters enclosed in quotes. Python has great support for strings:"
   ]
  },
  {
   "cell_type": "code",
   "execution_count": 4,
   "id": "34848e40",
   "metadata": {},
   "outputs": [
    {
     "name": "stdout",
     "output_type": "stream",
     "text": [
      "hello\n",
      "5\n"
     ]
    }
   ],
   "source": [
    "hello = 'hello'    # String literals can use single quotes\n",
    "world = \"world\"    # or double quotes; it does not matter.\n",
    "print(hello)       # Prints \"hello\"\n",
    "print(len(hello))  # String length; prints \"5\""
   ]
  },
  {
   "cell_type": "code",
   "execution_count": 16,
   "id": "b6fd316b",
   "metadata": {},
   "outputs": [
    {
     "name": "stdout",
     "output_type": "stream",
     "text": [
      "hello world\n"
     ]
    }
   ],
   "source": [
    "hw = hello + ' ' + world  # String concatenation\n",
    "print(hw)  # prints \"hello world\""
   ]
  },
  {
   "cell_type": "code",
   "execution_count": 21,
   "id": "3039d462",
   "metadata": {},
   "outputs": [
    {
     "name": "stdout",
     "output_type": "stream",
     "text": [
      "Hello\n",
      "HELLO\n",
      "  hello\n",
      " hello \n"
     ]
    }
   ],
   "source": [
    "s = \"hello\"\n",
    "print(s.capitalize())  # Capitalize a string; prints \"Hello\"\n",
    "print(s.upper())       # Convert a string to uppercase; prints \"HELLO\"\n",
    "print(s.rjust(7))      # Right-justify a string, padding with spaces; prints \"  hello\"\n",
    "print(s.center(7))     # Center a string, padding with spaces; prints \" hello \""
   ]
  },
  {
   "cell_type": "code",
   "execution_count": 22,
   "id": "8aeb0275",
   "metadata": {},
   "outputs": [
    {
     "name": "stdout",
     "output_type": "stream",
     "text": [
      "he(ell)(ell)o\n"
     ]
    }
   ],
   "source": [
    "print(s.replace('l', '(ell)'))  # Replace all instances of one substring with another;\n",
    "                                # prints \"he(ell)(ell)o\""
   ]
  },
  {
   "cell_type": "code",
   "execution_count": 23,
   "id": "70359992",
   "metadata": {},
   "outputs": [
    {
     "name": "stdout",
     "output_type": "stream",
     "text": [
      "world\n"
     ]
    }
   ],
   "source": [
    "print('  world '.strip())  # Strip leading and trailing whitespace; prints \"world\""
   ]
  },
  {
   "cell_type": "markdown",
   "id": "54838cba",
   "metadata": {},
   "source": [
    "## Boolean\n",
    "\n",
    "Boolean data type represents True or False values."
   ]
  },
  {
   "cell_type": "code",
   "execution_count": 26,
   "id": "aeb18fd0",
   "metadata": {},
   "outputs": [
    {
     "name": "stdout",
     "output_type": "stream",
     "text": [
      "True\n",
      "1\n",
      "0\n"
     ]
    }
   ],
   "source": [
    "# Defining Boolean Variables\n",
    "is_true = True\n",
    "is_false = False\n",
    "\n",
    "print(is_true)\n",
    "print(int(is_true))\n",
    "print(int(is_false))"
   ]
  },
  {
   "cell_type": "markdown",
   "id": "5373d44a",
   "metadata": {},
   "source": [
    "# Operators"
   ]
  },
  {
   "cell_type": "markdown",
   "id": "1be09976",
   "metadata": {},
   "source": [
    "## Arithmetic Operators\n",
    "\n",
    "Arithmetic operators perform mathematical operations."
   ]
  },
  {
   "cell_type": "code",
   "execution_count": 29,
   "id": "54ec4426",
   "metadata": {},
   "outputs": [
    {
     "name": "stdout",
     "output_type": "stream",
     "text": [
      "12\n",
      "8\n",
      "20\n"
     ]
    }
   ],
   "source": [
    "# Arithmetic Operations\n",
    "a = 10\n",
    "b = 2\n",
    "result_add = a + b\n",
    "result_sub = a - b\n",
    "result_multiply = a*b\n",
    "print(result_add)\n",
    "print(result_sub)\n",
    "print(result_multiply)"
   ]
  },
  {
   "cell_type": "code",
   "execution_count": 31,
   "id": "b6209858",
   "metadata": {},
   "outputs": [
    {
     "name": "stdout",
     "output_type": "stream",
     "text": [
      "3.3333333333333335\n",
      "3\n",
      "1\n"
     ]
    }
   ],
   "source": [
    "b = 3\n",
    "result_divide = a/b\n",
    "result_fdivide = a//b\n",
    "result_modulo = a%b\n",
    "print(result_divide)\n",
    "print(result_fdivide)\n",
    "print(result_modulo)"
   ]
  },
  {
   "cell_type": "markdown",
   "id": "3ed4d1b1",
   "metadata": {},
   "source": [
    "## Relational Operators\n",
    "\n",
    "Relational operators compare values and return True or False."
   ]
  },
  {
   "cell_type": "code",
   "execution_count": 37,
   "id": "9782e46e",
   "metadata": {},
   "outputs": [
    {
     "name": "stdout",
     "output_type": "stream",
     "text": [
      "False\n",
      "True\n",
      "False\n",
      "False\n",
      "True\n",
      "True\n",
      "False\n"
     ]
    }
   ],
   "source": [
    "# Comparison Operations\n",
    "is_equal = (10 == 5)\n",
    "is_greater = (10 > 5)\n",
    "\n",
    "print(is_equal)\n",
    "print(is_greater)\n",
    "print(10<5)\n",
    "print(12<=11)\n",
    "print(39>=39)\n",
    "print(12!=13)\n",
    "print(12==13)"
   ]
  },
  {
   "cell_type": "markdown",
   "id": "5eea82df",
   "metadata": {},
   "source": [
    "## Logical Operators\n",
    "\n",
    " Logical operators perform logical AND, OR, and NOT operations."
   ]
  },
  {
   "cell_type": "code",
   "execution_count": 41,
   "id": "623821fa",
   "metadata": {},
   "outputs": [
    {
     "name": "stdout",
     "output_type": "stream",
     "text": [
      "False\n",
      "True\n",
      "False\n"
     ]
    }
   ],
   "source": [
    "# Logical Operations\n",
    "result_and = True and False\n",
    "result_or = True or False\n",
    "\n",
    "print(result_and)\n",
    "print(result_or)\n",
    "print(not True)"
   ]
  },
  {
   "cell_type": "markdown",
   "id": "37e282f7",
   "metadata": {},
   "source": [
    "# Conditional Statements"
   ]
  },
  {
   "cell_type": "markdown",
   "id": "c5a3dd72",
   "metadata": {},
   "source": [
    "## If Statement\n",
    "\n",
    "If statement executes code if a condition is True."
   ]
  },
  {
   "cell_type": "code",
   "execution_count": null,
   "id": "83d59ab3",
   "metadata": {},
   "outputs": [],
   "source": [
    "# If Statement Example\n",
    "num = 10\n",
    "if num > 0:\n",
    "    print(\"Positive Number\")"
   ]
  },
  {
   "cell_type": "code",
   "execution_count": null,
   "id": "b64403e8",
   "metadata": {},
   "outputs": [],
   "source": [
    "# If-Else Statement Example\n",
    "num = -5\n",
    "if num >= 0:\n",
    "    print(\"Positive or Zero\")\n",
    "else:\n",
    "    print(\"Negative Number\")"
   ]
  },
  {
   "cell_type": "code",
   "execution_count": 56,
   "id": "4c3bba19",
   "metadata": {},
   "outputs": [
    {
     "name": "stdout",
     "output_type": "stream",
     "text": [
      "Positive number\n",
      "It's a number\n"
     ]
    }
   ],
   "source": [
    "# If-Else If Statement Example\n",
    "num = 5\n",
    "if num == 0:\n",
    "    print(\"Zero\")\n",
    "elif num < 0:\n",
    "    print(\"Negative number\")\n",
    "else:\n",
    "    print(\"Positive number\")"
   ]
  },
  {
   "cell_type": "markdown",
   "id": "2854a261",
   "metadata": {},
   "source": [
    "# Loops"
   ]
  },
  {
   "cell_type": "markdown",
   "id": "869ad929",
   "metadata": {},
   "source": [
    "## For loop\n",
    "\n",
    "For loop iterates over a sequence (list, tuple, string, etc.)."
   ]
  },
  {
   "cell_type": "code",
   "execution_count": null,
   "id": "16d5fe0b",
   "metadata": {},
   "outputs": [],
   "source": [
    "fruits = [\"apple\", \"banana\", \"cherry\"]\n",
    "for fruit in fruits:\n",
    "    print(fruit)"
   ]
  },
  {
   "cell_type": "code",
   "execution_count": 57,
   "id": "0ec396da",
   "metadata": {},
   "outputs": [
    {
     "name": "stdout",
     "output_type": "stream",
     "text": [
      "0\n",
      "1\n",
      "2\n",
      "3\n",
      "4\n"
     ]
    }
   ],
   "source": [
    "for i in range(0,5): \n",
    "    print(i)"
   ]
  },
  {
   "cell_type": "code",
   "execution_count": 12,
   "id": "a9e6a933",
   "metadata": {},
   "outputs": [
    {
     "name": "stdout",
     "output_type": "stream",
     "text": [
      "0\n",
      "2\n",
      "4\n"
     ]
    }
   ],
   "source": [
    "for i in range(0,5,2): \n",
    "    print(i)"
   ]
  },
  {
   "cell_type": "markdown",
   "id": "4d6f1233",
   "metadata": {},
   "source": [
    "## While loop\n",
    "\n",
    "While loop executes as long as a condition is True."
   ]
  },
  {
   "cell_type": "code",
   "execution_count": 59,
   "id": "a2dea531",
   "metadata": {},
   "outputs": [
    {
     "name": "stdout",
     "output_type": "stream",
     "text": [
      "0\n",
      "1\n",
      "2\n",
      "3\n",
      "4\n"
     ]
    }
   ],
   "source": [
    "# While Loop Example\n",
    "count = 0\n",
    "while count < 5:\n",
    "    print(count)\n",
    "    count += 1"
   ]
  }
 ],
 "metadata": {
  "kernelspec": {
   "display_name": "Python 3 (ipykernel)",
   "language": "python",
   "name": "python3"
  },
  "language_info": {
   "codemirror_mode": {
    "name": "ipython",
    "version": 3
   },
   "file_extension": ".py",
   "mimetype": "text/x-python",
   "name": "python",
   "nbconvert_exporter": "python",
   "pygments_lexer": "ipython3",
   "version": "3.9.7"
  }
 },
 "nbformat": 4,
 "nbformat_minor": 5
}
