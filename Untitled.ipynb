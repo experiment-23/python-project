{
 "cells": [
  {
   "cell_type": "code",
   "execution_count": 19,
   "id": "5e305a68-181f-4377-a9a3-95a93869ba23",
   "metadata": {},
   "outputs": [
    {
     "name": "stdout",
     "output_type": "stream",
     "text": [
      "Hello World\n"
     ]
    }
   ],
   "source": [
    "print(\"Hello World\")"
   ]
  },
  {
   "cell_type": "code",
   "execution_count": 21,
   "id": "bb983a1f-003e-418b-b096-a8df1aa17481",
   "metadata": {},
   "outputs": [
    {
     "name": "stdout",
     "output_type": "stream",
     "text": [
      "Hello \n",
      "World\n"
     ]
    }
   ],
   "source": [
    "print(\"Hello \\nWorld\")\n"
   ]
  },
  {
   "cell_type": "code",
   "execution_count": 22,
   "id": "c5740fee-220b-4b39-94aa-43ff12ab59fd",
   "metadata": {},
   "outputs": [
    {
     "name": "stdin",
     "output_type": "stream",
     "text": [
      "Enter your name: 6\n"
     ]
    },
    {
     "name": "stdout",
     "output_type": "stream",
     "text": [
      "Hello6\n"
     ]
    }
   ],
   "source": [
    "print(\"Hello\" + input (\"Enter your name:\"))"
   ]
  },
  {
   "cell_type": "code",
   "execution_count": 25,
   "id": "bbc9390b-6f17-4cec-bed9-7fa3896361ef",
   "metadata": {},
   "outputs": [
    {
     "name": "stdin",
     "output_type": "stream",
     "text": [
      "Enter your name: 5\n"
     ]
    },
    {
     "name": "stdout",
     "output_type": "stream",
     "text": [
      "Hello5\n"
     ]
    }
   ],
   "source": [
    "name = input(\"Enter your name:\")\n",
    "print(\"Hello\" + name)"
   ]
  },
  {
   "cell_type": "code",
   "execution_count": 26,
   "id": "1f96f28f-4daa-4c10-b569-22c5998e3bc1",
   "metadata": {},
   "outputs": [
    {
     "name": "stdout",
     "output_type": "stream",
     "text": [
      "hello\n"
     ]
    }
   ],
   "source": [
    "name = \"hello\"\n",
    "print(name)"
   ]
  },
  {
   "cell_type": "code",
   "execution_count": 27,
   "id": "1ae7acc3-d67e-4177-9f8d-20ba6ef7f81d",
   "metadata": {},
   "outputs": [
    {
     "name": "stdout",
     "output_type": "stream",
     "text": [
      "Number + 123\n"
     ]
    }
   ],
   "source": [
    "print(\"Number + 123\")"
   ]
  },
  {
   "cell_type": "code",
   "execution_count": 28,
   "id": "a43a5377-af2f-442e-8c47-4c575b17099a",
   "metadata": {},
   "outputs": [
    {
     "name": "stdout",
     "output_type": "stream",
     "text": [
      "555\n"
     ]
    }
   ],
   "source": [
    "print(222 + 333)"
   ]
  },
  {
   "cell_type": "code",
   "execution_count": 29,
   "id": "e9ff5cb3-c590-44d9-b515-39cad2ee8661",
   "metadata": {},
   "outputs": [
    {
     "name": "stdout",
     "output_type": "stream",
     "text": [
      "number123\n"
     ]
    }
   ],
   "source": [
    "print(\"number\" +\"123\")"
   ]
  },
  {
   "cell_type": "code",
   "execution_count": 30,
   "id": "52b30f5b-12ea-4303-baf2-a230e021662e",
   "metadata": {},
   "outputs": [
    {
     "name": "stdout",
     "output_type": "stream",
     "text": [
      "picturetree\n"
     ]
    }
   ],
   "source": [
    "print(\"picture\" + \"tree\")"
   ]
  },
  {
   "cell_type": "code",
   "execution_count": 31,
   "id": "4bedd86b-f7b6-4a15-95ca-4420a8a0ca76",
   "metadata": {},
   "outputs": [
    {
     "name": "stdout",
     "output_type": "stream",
     "text": [
      "3.5303\n"
     ]
    }
   ],
   "source": [
    "print(1.23 + 2.3003)"
   ]
  },
  {
   "cell_type": "code",
   "execution_count": 32,
   "id": "4bc4aa49-a8c5-4b56-966a-6b683612ce52",
   "metadata": {},
   "outputs": [
    {
     "name": "stdout",
     "output_type": "stream",
     "text": [
      "3.12\n"
     ]
    }
   ],
   "source": [
    "print(3.12)"
   ]
  },
  {
   "cell_type": "code",
   "execution_count": 33,
   "id": "be8ad056-20df-428c-b461-1c39414545cd",
   "metadata": {},
   "outputs": [
    {
     "name": "stdout",
     "output_type": "stream",
     "text": [
      "21.0\n"
     ]
    },
    {
     "data": {
      "text/plain": [
       "float"
      ]
     },
     "execution_count": 33,
     "metadata": {},
     "output_type": "execute_result"
    }
   ],
   "source": [
    "name = 21.0\n",
    "print(name)\n",
    "type(name)"
   ]
  },
  {
   "cell_type": "code",
   "execution_count": null,
   "id": "fd71d70e-4934-4819-8012-dab6618864cd",
   "metadata": {},
   "outputs": [],
   "source": []
  },
  {
   "cell_type": "code",
   "execution_count": 6,
   "id": "9e078e6d-955b-4808-8fc2-a406392784d2",
   "metadata": {},
   "outputs": [
    {
     "name": "stdout",
     "output_type": "stream",
     "text": [
      "dwweerhgnc \n",
      "11\n"
     ]
    }
   ],
   "source": [
    "hello = 'dwweerhgnc '    # String literals can use single quotes\n",
    "world = \"world  \"    # or double quotes; it does not matter.\n",
    "print(hello)       # Prints \"hello\"\n",
    "print(len(hello))  # String length; prints \"5\""
   ]
  },
  {
   "cell_type": "code",
   "execution_count": 38,
   "id": "80543700-ba28-4bb2-a891-0194f666881e",
   "metadata": {},
   "outputs": [
    {
     "name": "stdout",
     "output_type": "stream",
     "text": [
      "123\n"
     ]
    }
   ],
   "source": [
    "print(\"123\")\n"
   ]
  },
  {
   "cell_type": "code",
   "execution_count": 45,
   "id": "67101d65-2425-4ca3-9374-e1bd2f740677",
   "metadata": {},
   "outputs": [
    {
     "name": "stdout",
     "output_type": "stream",
     "text": [
      "False\n"
     ]
    }
   ],
   "source": [
    "aishu = False\n",
    "print(aishu)"
   ]
  },
  {
   "cell_type": "code",
   "execution_count": 46,
   "id": "9b3bfe62-f1a9-48b7-a78c-b2fadf207e5d",
   "metadata": {},
   "outputs": [
    {
     "data": {
      "text/plain": [
       "bool"
      ]
     },
     "execution_count": 46,
     "metadata": {},
     "output_type": "execute_result"
    }
   ],
   "source": [
    "type(aishu)"
   ]
  },
  {
   "cell_type": "code",
   "execution_count": 3,
   "id": "86d6a281-5625-48f6-a66f-3bef466e08e7",
   "metadata": {},
   "outputs": [
    {
     "name": "stdout",
     "output_type": "stream",
     "text": [
      "0\n",
      "0.75\n",
      "3\n"
     ]
    }
   ],
   "source": [
    "a=3\n",
    "b=4\n",
    "result_fdivide = a//b\n",
    "result_divide = a/b\n",
    "result_modulo = a%b\n",
    "print(result_fdivide)\n",
    "print(result_divide)\n",
    "print(result_modulo)\n"
   ]
  },
  {
   "cell_type": "code",
   "execution_count": 5,
   "id": "d388422a-2aec-46b1-a7a8-696291024e8c",
   "metadata": {},
   "outputs": [
    {
     "name": "stdout",
     "output_type": "stream",
     "text": [
      "7.5\n",
      "7\n",
      "1\n"
     ]
    }
   ],
   "source": [
    "a=15\n",
    "b= 2\n",
    "result_divide = a/b\n",
    "result_fdivide = a//b\n",
    "result_modulo = a%b\n",
    "print(result_divide)\n",
    "print(result_fdivide)\n",
    "print(result_modulo)"
   ]
  },
  {
   "cell_type": "code",
   "execution_count": null,
   "id": "23d5727b-515c-495f-a369-e13608111675",
   "metadata": {},
   "outputs": [],
   "source": []
  },
  {
   "cell_type": "code",
   "execution_count": 14,
   "id": "9168795c-7cbf-4c9d-b259-e01a0e21c703",
   "metadata": {},
   "outputs": [
    {
     "name": "stdout",
     "output_type": "stream",
     "text": [
      "12\n",
      "8\n",
      "20\n"
     ]
    }
   ],
   "source": [
    "# Arithmetic Operations\n",
    "a = 10\n",
    "b = 2\n",
    "result_add = a + b\n",
    "result_sub = a - b\n",
    "result_multiply = a*b\n",
    "print(result_add)\n",
    "print(result_sub)\n",
    "print(result_multiply)"
   ]
  },
  {
   "cell_type": "code",
   "execution_count": null,
   "id": "a4d3bddb-cb4e-4c58-8028-cf8d1b6e61e1",
   "metadata": {},
   "outputs": [],
   "source": []
  },
  {
   "cell_type": "code",
   "execution_count": 10,
   "id": "7d2031d5-1b26-4987-944f-2a3beca395c6",
   "metadata": {},
   "outputs": [
    {
     "name": "stdout",
     "output_type": "stream",
     "text": [
      "Hello\n",
      "HELLO\n",
      "  hello\n",
      " hello \n"
     ]
    }
   ],
   "source": [
    "s = \"hello\"\n",
    "print(s.capitalize())  # Capitalize a string; prints \"Hello\"\n",
    "print(s.upper())       # Convert a string to uppercase; prints \"HELLO\"\n",
    "print(s.rjust(7))      # Right-justify a string, padding with spaces; prints \"  hello\"\n",
    "print(s.center(7))     # Center a string, padding with spaces; prints \" hello \""
   ]
  },
  {
   "cell_type": "code",
   "execution_count": null,
   "id": "d1717e5d-df7b-42c7-8088-873ed934516a",
   "metadata": {},
   "outputs": [],
   "source": []
  },
  {
   "cell_type": "code",
   "execution_count": 18,
   "id": "fa29ce27-837c-48aa-82fd-dc752a4661eb",
   "metadata": {},
   "outputs": [
    {
     "name": "stdout",
     "output_type": "stream",
     "text": [
      "cherry\n",
      "banana\n",
      "apple\n",
      "cherry\n",
      "banana\n",
      "apple\n",
      "cherry\n",
      "banana\n",
      "apple\n"
     ]
    }
   ],
   "source": [
    "fruits = [\"apple\", \"banana\", \"cherry\"]\n",
    "for fruit in fruits:\n",
    "    for i in range(0,3):\n",
    "        print(fruits[2-i])"
   ]
  },
  {
   "cell_type": "code",
   "execution_count": 20,
   "id": "48913bbb-1747-467d-b37e-f5c139779587",
   "metadata": {},
   "outputs": [
    {
     "name": "stdout",
     "output_type": "stream",
     "text": [
      "[1, 2, 3, 4, 5, 6, 7, 8, 9]\n"
     ]
    }
   ],
   "source": [
    "a = [1,2,3,4,5,6,7,8,9]\n",
    "print(a)"
   ]
  },
  {
   "cell_type": "code",
   "execution_count": 29,
   "id": "8c9182f7-51ee-476e-827f-6632793de236",
   "metadata": {},
   "outputs": [
    {
     "name": "stdout",
     "output_type": "stream",
     "text": [
      "Odd\n",
      "2\n",
      "Odd\n",
      "4\n",
      "Multiple of 5\n",
      "6\n",
      "Odd\n",
      "8\n",
      "Odd\n"
     ]
    }
   ],
   "source": [
    "for i in a:\n",
    "    if i % 2 == 0:\n",
    "        print(i)\n",
    "    elif i % 5 == 0:\n",
    "        print(\"Multiple of 5\")\n",
    "    else:\n",
    "        print(\"Odd\")"
   ]
  },
  {
   "cell_type": "code",
   "execution_count": 36,
   "id": "4e5e2380-c44b-4d99-9c4f-f1d813e0e071",
   "metadata": {},
   "outputs": [
    {
     "name": "stdin",
     "output_type": "stream",
     "text": [
      "Enter a number: 5\n"
     ]
    },
    {
     "name": "stdout",
     "output_type": "stream",
     "text": [
      "120\n"
     ]
    }
   ],
   "source": [
    "n = int(input(\"Enter a number:\"))\n",
    "result = 1\n",
    "for i  in range(1,n+1):\n",
    "    result = result * i\n",
    "\n",
    "print(result)"
   ]
  },
  {
   "cell_type": "code",
   "execution_count": null,
   "id": "e60311a7-c156-4b2d-8f53-286c11a6aafe",
   "metadata": {},
   "outputs": [],
   "source": []
  },
  {
   "cell_type": "code",
   "execution_count": null,
   "id": "9787e1f6-5c18-41a0-9b6f-9ab10ee8de10",
   "metadata": {},
   "outputs": [],
   "source": []
  },
  {
   "cell_type": "code",
   "execution_count": null,
   "id": "2fbf582c-31ca-40c3-95c2-fd33e2b7ea60",
   "metadata": {},
   "outputs": [],
   "source": []
  },
  {
   "cell_type": "code",
   "execution_count": null,
   "id": "62b18162-1b5d-4e8e-aa70-ddd7857506d2",
   "metadata": {},
   "outputs": [],
   "source": []
  },
  {
   "cell_type": "code",
   "execution_count": null,
   "id": "b52fe995-6577-43ad-9b48-8192bae510ce",
   "metadata": {},
   "outputs": [],
   "source": []
  },
  {
   "cell_type": "code",
   "execution_count": null,
   "id": "4b4a6939-91af-4ed3-90d8-92b3530319e9",
   "metadata": {},
   "outputs": [],
   "source": []
  },
  {
   "cell_type": "code",
   "execution_count": null,
   "id": "8a8303e1-2634-428a-8158-6b6440189f50",
   "metadata": {},
   "outputs": [],
   "source": []
  },
  {
   "cell_type": "code",
   "execution_count": null,
   "id": "a7219018-605f-4ffb-acb0-b3d3e076595e",
   "metadata": {},
   "outputs": [],
   "source": []
  }
 ],
 "metadata": {
  "kernelspec": {
   "display_name": "Python 3 (ipykernel)",
   "language": "python",
   "name": "python3"
  },
  "language_info": {
   "codemirror_mode": {
    "name": "ipython",
    "version": 3
   },
   "file_extension": ".py",
   "mimetype": "text/x-python",
   "name": "python",
   "nbconvert_exporter": "python",
   "pygments_lexer": "ipython3",
   "version": "3.8.3"
  }
 },
 "nbformat": 4,
 "nbformat_minor": 5
}
